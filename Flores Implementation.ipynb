{
 "cells": [
  {
   "cell_type": "markdown",
   "metadata": {},
   "source": [
    "Implementing code from Flores paper"
   ]
  },
  {
   "cell_type": "code",
   "execution_count": 1,
   "metadata": {},
   "outputs": [],
   "source": [
    "import numpy as np\n",
    "import matplotlib.pyplot as plt\n",
    "from scipy.integrate import odeint"
   ]
  },
  {
   "cell_type": "code",
   "execution_count": 6,
   "metadata": {},
   "outputs": [],
   "source": [
    "def K(R):\n",
    "    '''\n",
    "    (Kyner) guarantees numerical smoothness\n",
    "    '''\n",
    "    #return k1/(1 + k2 * (R**2)) where k1 = 1 and k2 = 100\n",
    "    return 1/(1 + 100 * (R**2))\n",
    "\n",
    "def model(y_in, t, params):\n",
    "    '''\n",
    "    model(y_in, t, params)\n",
    "    Integrates R_e and S_e\n",
    "    '''\n",
    "    \n",
    "    if params is None:\n",
    "        a=0.85\n",
    "        b=0.3\n",
    "        c=0.8\n",
    "        d=0.5\n",
    "        L=0\n",
    "        K=1\n",
    "        C=1\n",
    "        R=3\n",
    "        S=4\n",
    "        \n",
    "    else:        \n",
    "        a = params['a']\n",
    "        b = params['b']\n",
    "        c = params['c']\n",
    "        d = params['d']\n",
    "        L = params['L']\n",
    "        K = params['K']\n",
    "        C = params['C']\n",
    "        R = params['R']\n",
    "        S = params['S']\n",
    "\n",
    "    #???           \n",
    "    #x = y_in[0]\n",
    "    #y = y_in[1]\n",
    "    \n",
    "    \n",
    "    dRdt = R - c * S - b * (S**2) + (d - L) + K\n",
    "    dSdt = R - a * S + C * S\n",
    "    \n",
    "    return [dRdt, dSdt]\n",
    "\n",
    "def plot(model, a=0.85, b=0.3, c=0.8, d=0.5, L=0, K=1, C=1, R=3, S=4):\n",
    "    '''\n",
    "    plots dR/dt and dS/dt\n",
    "    '''\n",
    "    \n",
    "    #fig0, ax0 = plt.subplots(1,1,figsize=(8,8)) #sets up the grid for plot\n",
    "    \n",
    "    t = np.linspace(0, 10, 1000) #sets up time\n",
    "    \n",
    "    ode_args = {'a':a,'b':b,'c':c,'d':d,'L':L,'K':K,'C':C,'R':R,'S':S} #parameters\n",
    "    \n",
    "    #for loop??\n",
    "    for R in (0,5):\n",
    "        for S in (1,6):\n",
    "            \n",
    "            y_out = odeint(model, [R,S], t, args = (ode_args,)) #integration\n",
    "    \n",
    "    plt.figure() #sets up the grid for plot\n",
    "    plt.plot(y_out[:,0],y_out[:,1])\n",
    "    plt.xlabel('dRdt', fontsize = 18)\n",
    "    plt.ylabel('dSdt', fontsize = 18)"
   ]
  },
  {
   "cell_type": "markdown",
   "metadata": {},
   "source": [
    "Things to discuss:\n",
    "<br>\n",
    "What are other functions besides K?\n",
    "<br>\n",
    "What parameters go into K?\n",
    "<br>\n",
    "x and y or R and S??"
   ]
  },
  {
   "cell_type": "code",
   "execution_count": 7,
   "metadata": {},
   "outputs": [
    {
     "name": "stderr",
     "output_type": "stream",
     "text": [
      "/Users/jessicaarzavala/opt/anaconda3/lib/python3.7/site-packages/scipy/integrate/odepack.py:248: ODEintWarning: Excess work done on this call (perhaps wrong Dfun type). Run with full_output = 1 to get quantitative information.\n",
      "  warnings.warn(warning_msg, ODEintWarning)\n"
     ]
    },
    {
     "data": {
      "image/png": "[encoded data removed]",
      "text/plain": [
       "<Figure size 432x288 with 1 Axes>"
      ]
     },
     "metadata": {
      "needs_background": "light"
     },
     "output_type": "display_data"
    }
   ],
   "source": [
    "plot(model, a=0.85, b=0.3, c=0.8, d=0.5, L=0, K=1, C=1)"
   ]
  },
  {
   "cell_type": "code",
   "execution_count": null,
   "metadata": {},
   "outputs": [],
   "source": []
  }
 ],
 "metadata": {
  "kernelspec": {
   "display_name": "Python 3",
   "language": "python",
   "name": "python3"
  },
  "language_info": {
   "codemirror_mode": {
    "name": "ipython",
    "version": 3
   },
   "file_extension": ".py",
   "mimetype": "text/x-python",
   "name": "python",
   "nbconvert_exporter": "python",
   "pygments_lexer": "ipython3",
   "version": "3.7.6"
  }
 },
 "nbformat": 4,
 "nbformat_minor": 4
}
