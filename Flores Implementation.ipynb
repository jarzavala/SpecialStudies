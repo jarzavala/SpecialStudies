{
 "cells": [
  {
   "cell_type": "markdown",
   "metadata": {},
   "source": [
    "Implementing code from Flores paper"
   ]
  },
  {
   "cell_type": "code",
   "execution_count": 1,
   "metadata": {},
   "outputs": [],
   "source": [
    "import numpy as np\n",
    "import matplotlib.pyplot as plt\n",
    "from scipy.integrate import odeint"
   ]
  },
  {
   "cell_type": "code",
   "execution_count": null,
   "metadata": {},
   "outputs": [],
   "source": [
    "def K():\n",
    "    '''\n",
    "    (Kyner) guarantees numerical smoothness\n",
    "    '''\n",
    "    \n",
    "    return 1/(1 + 100 * (R**2))\n",
    "\n",
    "def model(y_in, t, params):\n",
    "    '''\n",
    "    model(y_in, t, params)\n",
    "    Integrates R_e and S_e\n",
    "    '''\n",
    "    \n",
    "    if params is None:\n",
    "        a=0.85\n",
    "        b=0.3\n",
    "        c=0.8\n",
    "        d=0.5\n",
    "    else:        \n",
    "        a = params['a']\n",
    "        b = params['b']\n",
    "        c = params['c']\n",
    "        d = params['d']\n",
    "\n",
    "    #???           \n",
    "    #x = y_in[0]\n",
    "    #y = y_in[1]\n",
    "    \n",
    "    \n",
    "    dRdt = R - c * S - b * (S**2) + (d - L) + K\n",
    "    dSdt = R - a * S + C * S\n",
    "    \n",
    "    return [dRdt, dSdt]\n",
    "\n",
    "def plot(model, a=0.85, b=0.3, c=0.8, d=0.5):\n",
    "    '''\n",
    "    plots dR/dt and dS/dt\n",
    "    '''\n",
    "    \n",
    "    fig0, ax0 = plt.subplots(1,1,figsize=(8,8))\n",
    "    \n",
    "    t = np.linspace(0, 10, 1000)\n",
    "    \n",
    "    ode_args = {'a':a,'b':b,'c':c,'d':d}\n",
    "    \n",
    "    #for loop??\n",
    "    y_out = odeint(model, init_cond, t, args = (ode_args,))\n",
    "    \n",
    "    plt.figure()\n",
    "    plt.plot(y_out[:,0],y_out[:,1])\n",
    "    plt.xlabel('x', fontsize = 18)\n",
    "    plt.ylabel('y', fontsize = 18)"
   ]
  },
  {
   "cell_type": "markdown",
   "metadata": {},
   "source": [
    "Things to discuss:\n",
    "<br>\n",
    "What are other functions besides K?\n",
    "<br>\n",
    "What parameters go into K?\n",
    "<br>\n",
    "x and y or R and S??"
   ]
  }
 ],
 "metadata": {
  "kernelspec": {
   "display_name": "Python 3",
   "language": "python",
   "name": "python3"
  },
  "language_info": {
   "codemirror_mode": {
    "name": "ipython",
    "version": 3
   },
   "file_extension": ".py",
   "mimetype": "text/x-python",
   "name": "python",
   "nbconvert_exporter": "python",
   "pygments_lexer": "ipython3",
   "version": "3.7.6"
  }
 },
 "nbformat": 4,
 "nbformat_minor": 4
}
